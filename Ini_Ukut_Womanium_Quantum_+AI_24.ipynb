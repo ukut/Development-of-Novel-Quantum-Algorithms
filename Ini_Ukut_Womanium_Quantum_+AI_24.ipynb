{
  "cells": [
    {
      "cell_type": "markdown",
      "source": [
        "AGENDA:\n",
        "(i)Motivation for the project\n",
        "(ii) The theory\n",
        "(ii)Maping the problem to quantum computer, that is, encoding the system\n",
        "(iv) Evolving the circuit(the Hamiltonian simulation)\n",
        "(v)The read out and post -processing\n"
      ],
      "metadata": {
        "id": "gfTzdzONn2Wa"
      },
      "id": "gfTzdzONn2Wa"
    },
    {
      "cell_type": "code",
      "source": [
        "\n"
      ],
      "metadata": {
        "id": "voZJ76k1nmVL"
      },
      "id": "voZJ76k1nmVL",
      "execution_count": null,
      "outputs": []
    },
    {
      "cell_type": "markdown",
      "source": [],
      "metadata": {
        "id": "JyYjCqteofpm"
      },
      "id": "JyYjCqteofpm"
    },
    {
      "cell_type": "markdown",
      "source": [
        "Exponential Quantum Speedup in simulating coupled Classical Oscillators\n",
        "\n",
        "Motivation: In both Classical and Quantum physics, the Hamonic Oscillator is the most important topic in the whole of phyiscs. Because it allows us to study the vibration of strings, the behaviour of the electronic circuit, the motions of atoms in solids, phonons in crystals, quantized electromagnetic fields, and many others."
      ],
      "metadata": {
        "id": "m_LhYYRFhK_o"
      },
      "id": "m_LhYYRFhK_o"
    },
    {
      "cell_type": "code",
      "source": [],
      "metadata": {
        "id": "MKGHS-LQf7WW"
      },
      "id": "MKGHS-LQf7WW",
      "execution_count": null,
      "outputs": []
    },
    {
      "cell_type": "markdown",
      "source": [
        "This project looks at the simulation of a dynamics of a classical system made up of (exponentially many) masses coupled by springs We use Classiq quantum platform for our simulation. This project is important because quantum computers can solve certain problems exponentially, though several assumptions must be made to exploit the power of quantum computer.\n",
        "\n",
        "To be able to simulate many (N=2n) classical oscillation in polynomial time. we define simply classical oscillators, that is Newton's law F = ma, which is the same as mx(t) = -kx(t), where m= mass of a particle K = spring constant\n",
        "\n",
        "\n",
        "By defining the simulation problem as shown in equation (1) below in the next cell:"
      ],
      "metadata": {
        "id": "nU0piutxhYVq"
      },
      "id": "nU0piutxhYVq"
    },
    {
      "cell_type": "markdown",
      "source": [],
      "metadata": {
        "id": "6tm1M1fOnk_a"
      },
      "id": "6tm1M1fOnk_a"
    },
    {
      "cell_type": "markdown",
      "id": "f321e0aa-6b11-44ef-8b54-178c44802d7d",
      "metadata": {
        "id": "f321e0aa-6b11-44ef-8b54-178c44802d7d"
      },
      "source": [
        "# In the harmonic approximation,\n",
        "\n",
        "In the harmonic approximation, the dynamics of the oscillators can be determined from the initial values $\\vec{x}$(0) and $\\dot{\\vec{x}}$ and Newton's equation (for all $j \\in \\mathbb{N}$ **:=** $\\{1, \\dots, N\\}):$\n",
        "\n",
        "\n",
        "$$ m_{j}\\ddot x_{j}(t) = \\sum \\limits _{k \\not= j} k_{jk} (x_{k}(t)-x_{j}(t)) - k_{jj}x_{j}(t)   \\quad.(1) $$\n",
        "\n",
        "In matrix form, this is $(\\mathbf{M} \\ddot{\\vec{x}}(t) = - \\mathbf{F} \\vec{x}(t))$, where $\\mathbf{M}$ is a $N \\times N$  diagonal matrix with entries $ m_j > 0 $ and $\\mathbf{F}$ is the  $N \\times N$ matrix whose diagonal and off-diagonal entries are $f_{jj} = \\sum_{k} \\kappa_{jk} $ and $f_{jk} = -\\kappa_{jk}$, respectively. (Observe that $\\mathbf{F}$ is the discrete Laplacian of a weighted graph.)"
      ]
    },
    {
      "cell_type": "code",
      "source": [],
      "metadata": {
        "id": "NYVX131FfTo_"
      },
      "id": "NYVX131FfTo_",
      "execution_count": null,
      "outputs": []
    },
    {
      "cell_type": "markdown",
      "source": [],
      "metadata": {
        "id": "b6xVc6DZlpzY"
      },
      "id": "b6xVc6DZlpzY"
    },
    {
      "cell_type": "code",
      "source": [],
      "metadata": {
        "id": "XTb8w6GlcLjN"
      },
      "id": "XTb8w6GlcLjN",
      "execution_count": null,
      "outputs": []
    },
    {
      "cell_type": "code",
      "source": [],
      "metadata": {
        "id": "zXAcU0yPcPfw"
      },
      "id": "zXAcU0yPcPfw",
      "execution_count": null,
      "outputs": []
    }
  ],
  "metadata": {
    "kernelspec": {
      "display_name": "Python 3 (ipykernel)",
      "language": "python",
      "name": "python3"
    },
    "language_info": {
      "codemirror_mode": {
        "name": "ipython",
        "version": 3
      },
      "file_extension": ".py",
      "mimetype": "text/x-python",
      "name": "python",
      "nbconvert_exporter": "python",
      "pygments_lexer": "ipython3",
      "version": "3.11.7"
    },
    "colab": {
      "provenance": []
    }
  },
  "nbformat": 4,
  "nbformat_minor": 5
}